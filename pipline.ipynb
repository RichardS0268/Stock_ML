{
 "cells": [
  {
   "cell_type": "code",
   "execution_count": 1,
   "metadata": {},
   "outputs": [],
   "source": [
    "from Utils import *\n",
    "from Datahandler import DataLoader, DataSet\n",
    "from Bucket import Bucket"
   ]
  },
  {
   "cell_type": "code",
   "execution_count": 2,
   "metadata": {},
   "outputs": [],
   "source": [
    "DIR_PATH = 'Z:\\Stock\\L1_tick\\JQ' \n",
    "\n",
    "PERIOD_START = '2020-01-01'\n",
    "PERIOD_END = '2022-07-08'\n",
    "CSI500 = index_components('S.CN.SSE.000905', PERIOD_START, PERIOD_END)\n",
    "CSI500 = np.unique(CSI500)"
   ]
  },
  {
   "cell_type": "markdown",
   "metadata": {},
   "source": [
    "### History Components of CST500"
   ]
  },
  {
   "cell_type": "code",
   "execution_count": 3,
   "metadata": {},
   "outputs": [
    {
     "name": "stdout",
     "output_type": "stream",
     "text": [
      "[ 728 ] stocks have been contained in CSI500 duiring 2020-01-01 -- 2022-07-08\n",
      "CST500 components have changed [ 9 ] times\n",
      "local dataset has [ 728/728 ] stocks data\n"
     ]
    }
   ],
   "source": [
    "history_contains = []\n",
    "for contains in CSI500:\n",
    "    history_contains += contains\n",
    "history_contains = np.unique(history_contains)\n",
    "\n",
    "print('[', len(history_contains), f'] stocks have been contained in CSI500 duiring {PERIOD_START} -- {PERIOD_END}') # Find all stocks ever contained in CST500\n",
    "print('CST500 components have changed [', len(CSI500), '] times') # Contains of CSI500 have changed 9 times during the period\n",
    "\n",
    "files = []\n",
    "for file in os.listdir(DIR_PATH):\n",
    "    NO = file[:6]\n",
    "    SYMBOL = 'S.CN.SZSE.' + NO if file[7:11] == 'XSHE' else 'S.CN.SSE.' + NO\n",
    "    if SYMBOL in history_contains:\n",
    "        files.append(file)\n",
    "\n",
    "print(f'local dataset has [ {len(files)}/{len(history_contains)} ] stocks data') # all stocks contained in the CSI500 during the period."
   ]
  },
  {
   "cell_type": "markdown",
   "metadata": {},
   "source": [
    "### Single Stock Features & Volatility"
   ]
  },
  {
   "cell_type": "code",
   "execution_count": 4,
   "metadata": {},
   "outputs": [],
   "source": [
    "SYMBOL = '689009_XSHG'\n",
    "BUCKET_SIZE = datetime.timedelta(minutes = 9, seconds = 59) # 60 * 10 entries\n",
    "TRAIN_TEST_SIZE = 31 # total days for training and testing"
   ]
  },
  {
   "cell_type": "code",
   "execution_count": 5,
   "metadata": {},
   "outputs": [],
   "source": [
    "FEATURES = ['F1_1', 'F1_2', 'F1_3', 'F1_4',                                                     \\\n",
    "                                                                                                \\\n",
    "            'F2_1', 'F2_2', 'F2_3', 'F2_4', 'F2_5', 'F2_6', 'F2_7', 'F2_8', 'F2_9',             \\\n",
    "            'F2_10', 'F2_11', 'F2_12', 'F2_13', 'F2_14', 'F2_15', 'F2_16', 'F2_17',             \\\n",
    "                                                                                                \\\n",
    "            'F3_1', 'F3_2', 'F3_3', 'F3_4', 'F3_5', 'F3_6',                                     \\\n",
    "                                                                                                \\\n",
    "            'F4_1', 'F4_2', 'F4_3', 'F4_4',                                                     \\\n",
    "                                                                                                \\\n",
    "            'F5_1', 'F5_2', 'F5_3', 'F5_4',                                                     \\\n",
    "                                                                                                \\\n",
    "            'F6_1', 'F6_2', 'F6_3', 'F6_4', 'F6_5', 'F6_6', 'F6_7', 'F6_8', 'F6_9',             \\\n",
    "            'F6_10', 'F6_11', 'F6_12', 'F6_13', 'F6_14', 'F6_15', 'F6_16',                      \\\n",
    "                                                                                                \\\n",
    "            'F7_1', 'F7_2', 'F7_3', 'F7_4', 'F7_5', 'F7_6', 'F7_7', 'F7_8'] # total 59 basic features"
   ]
  },
  {
   "cell_type": "code",
   "execution_count": 6,
   "metadata": {},
   "outputs": [],
   "source": [
    "file_path = DIR_PATH + '\\\\'+ SYMBOL + '.h5'\n",
    "hdf = pd.HDFStore(file_path, 'r')\n",
    "Valid_Trading_Dates = pd.Series(hdf.keys()).apply(lambda x: x[1:])\n",
    "\n",
    "Rolling_Period = list(Valid_Trading_Dates.rolling(TRAIN_TEST_SIZE))[-1].to_list() # 1 for test others for training"
   ]
  },
  {
   "cell_type": "code",
   "execution_count": 25,
   "metadata": {},
   "outputs": [
    {
     "data": {
      "text/plain": [
       "'2022-07-06'"
      ]
     },
     "execution_count": 25,
     "metadata": {},
     "output_type": "execute_result"
    }
   ],
   "source": [
    "Rolling_Period[-3]"
   ]
  },
  {
   "cell_type": "code",
   "execution_count": 7,
   "metadata": {},
   "outputs": [
    {
     "name": "stdout",
     "output_type": "stream",
     "text": [
      "[Load Data]  0.049 seconds\n",
      "[Data Expansion]  0.163 seconds\n",
      "[Features Computation 0]  0.007 seconds\n",
      "[Load Data]  0.029 seconds\n",
      "[Data Expansion]  0.077 seconds\n",
      "[Features Computation 0]  0.006 seconds\n",
      "[Load Data]  0.030 seconds\n",
      "[Data Expansion]  0.076 seconds\n",
      "[Features Computation 0]  0.006 seconds\n",
      "[Load Data]  0.029 seconds\n",
      "[Data Expansion]  0.076 seconds\n",
      "[Features Computation 0]  0.007 seconds\n",
      "[Load Data]  0.031 seconds\n",
      "[Data Expansion]  0.162 seconds\n",
      "[Features Computation 0]  0.006 seconds\n",
      "[Load Data]  0.031 seconds\n",
      "[Data Expansion]  0.077 seconds\n",
      "[Features Computation 0]  0.007 seconds\n",
      "[Load Data]  0.042 seconds\n",
      "[Data Expansion]  0.077 seconds\n",
      "[Features Computation 0]  0.007 seconds\n",
      "[Load Data]  0.030 seconds\n",
      "[Data Expansion]  0.077 seconds\n",
      "[Features Computation 0]  0.007 seconds\n",
      "[Load Data]  0.030 seconds\n",
      "[Data Expansion]  0.162 seconds\n",
      "[Features Computation 0]  0.007 seconds\n",
      "[Load Data]  0.030 seconds\n",
      "[Data Expansion]  0.078 seconds\n",
      "[Features Computation 0]  0.007 seconds\n",
      "[Load Data]  0.033 seconds\n",
      "[Data Expansion]  0.089 seconds\n",
      "[Features Computation 0]  0.006 seconds\n",
      "[Load Data]  0.079 seconds\n",
      "[Data Expansion]  0.077 seconds\n",
      "[Features Computation 0]  0.007 seconds\n",
      "[Load Data]  0.030 seconds\n",
      "[Data Expansion]  0.163 seconds\n",
      "[Features Computation 0]  0.007 seconds\n",
      "[Load Data]  0.032 seconds\n",
      "[Data Expansion]  0.078 seconds\n",
      "[Features Computation 0]  0.007 seconds\n",
      "[Load Data]  0.038 seconds\n",
      "[Data Expansion]  0.078 seconds\n",
      "[Features Computation 0]  0.006 seconds\n",
      "[Load Data]  0.041 seconds\n",
      "[Data Expansion]  0.077 seconds\n",
      "[Features Computation 0]  0.007 seconds\n",
      "[Load Data]  0.037 seconds\n",
      "[Data Expansion]  0.165 seconds\n",
      "[Features Computation 0]  0.007 seconds\n",
      "[Load Data]  0.034 seconds\n",
      "[Data Expansion]  0.079 seconds\n",
      "[Features Computation 0]  0.006 seconds\n",
      "[Load Data]  0.036 seconds\n",
      "[Data Expansion]  0.078 seconds\n",
      "[Features Computation 0]  0.007 seconds\n",
      "[Load Data]  0.037 seconds\n",
      "[Data Expansion]  0.078 seconds\n",
      "[Features Computation 0]  0.006 seconds\n",
      "[Load Data]  0.040 seconds\n",
      "[Data Expansion]  0.163 seconds\n",
      "[Features Computation 0]  0.007 seconds\n",
      "[Load Data]  0.035 seconds\n",
      "[Data Expansion]  0.079 seconds\n",
      "[Features Computation 0]  0.007 seconds\n",
      "[Load Data]  0.030 seconds\n",
      "[Data Expansion]  0.077 seconds\n",
      "[Features Computation 0]  0.006 seconds\n",
      "[Load Data]  0.033 seconds\n",
      "[Data Expansion]  0.077 seconds\n",
      "[Features Computation 0]  0.006 seconds\n",
      "[Load Data]  0.031 seconds\n",
      "[Data Expansion]  0.079 seconds\n",
      "[Features Computation 0]  0.007 seconds\n",
      "[Load Data]  0.032 seconds\n",
      "[Data Expansion]  0.159 seconds\n",
      "[Features Computation 0]  0.007 seconds\n",
      "[Load Data]  0.030 seconds\n",
      "[Data Expansion]  0.079 seconds\n",
      "[Features Computation 0]  0.007 seconds\n",
      "[Load Data]  0.029 seconds\n",
      "[Data Expansion]  0.078 seconds\n",
      "[Features Computation 0]  0.006 seconds\n",
      "[Get Dateset]  43.623 seconds\n",
      "[- Get Train Set Total Time -]  43.958 seconds\n",
      "\n",
      "\n",
      "[Load Data]  0.030 seconds\n",
      "[Data Expansion]  0.079 seconds\n",
      "[Features Computation 0]  0.007 seconds\n",
      "[Load Data]  0.032 seconds\n",
      "[Data Expansion]  0.164 seconds\n",
      "[Features Computation 0]  0.007 seconds\n",
      "[Load Data]  0.030 seconds\n",
      "[Data Expansion]  0.078 seconds\n",
      "[Features Computation 0]  0.007 seconds\n",
      "[Get Dateset]  4.539 seconds\n",
      "[- Get Test Set Total time -]  4.539 seconds\n"
     ]
    }
   ],
   "source": [
    "with timer('- Get Train Set Total Time -'):\n",
    "    train_set = DataSet(Rolling_Period[:-3], SYMBOL, DIR_PATH, BUCKET_SIZE)\n",
    "    train_set.get_dataset()\n",
    "    train_set.dataset_shuffle()\n",
    "    train_df = train_set.get_items()\n",
    "\n",
    "print('\\n')\n",
    "\n",
    "with timer('- Get Test Set Total time -'):\n",
    "    test_set = DataSet(Rolling_Period[-3:], SYMBOL, DIR_PATH, BUCKET_SIZE)\n",
    "    test_set.get_dataset()\n",
    "    test_df = test_set.get_items()"
   ]
  },
  {
   "cell_type": "code",
   "execution_count": 9,
   "metadata": {},
   "outputs": [
    {
     "data": {
      "text/plain": [
       "2022-06-07 13:22:34    0.031876\n",
       "2022-06-24 10:43:35    0.007743\n",
       "2022-07-05 13:21:56    0.012358\n",
       "2022-05-30 09:31:39    0.035495\n",
       "2022-06-02 10:50:23    0.006506\n",
       "                         ...   \n",
       "2022-07-04 11:06:11    0.006037\n",
       "2022-06-28 11:23:39    0.008507\n",
       "2022-06-10 10:39:29    0.016617\n",
       "2022-06-07 10:21:03    0.014522\n",
       "2022-06-23 11:17:30    0.007403\n",
       "Name: baseline, Length: 352800, dtype: float64"
      ]
     },
     "execution_count": 9,
     "metadata": {},
     "output_type": "execute_result"
    }
   ],
   "source": [
    "train_df['baseline']"
   ]
  },
  {
   "cell_type": "code",
   "execution_count": 32,
   "metadata": {},
   "outputs": [
    {
     "data": {
      "text/plain": [
       "2022-07-08 09:30:00    0.006863\n",
       "2022-07-08 09:30:01    0.006863\n",
       "2022-07-08 09:30:02    0.006863\n",
       "2022-07-08 09:30:03    0.006863\n",
       "2022-07-08 09:30:04    0.006863\n",
       "                         ...   \n",
       "2022-07-08 14:29:55    0.003150\n",
       "2022-07-08 14:29:56    0.003150\n",
       "2022-07-08 14:29:57    0.003150\n",
       "2022-07-08 14:29:58    0.003150\n",
       "2022-07-08 14:29:59    0.003150\n",
       "Name: target, Length: 12600, dtype: float64"
      ]
     },
     "execution_count": 32,
     "metadata": {},
     "output_type": "execute_result"
    }
   ],
   "source": [
    "test_df['target']"
   ]
  },
  {
   "cell_type": "markdown",
   "metadata": {},
   "source": [
    "### LGBM Regressor"
   ]
  },
  {
   "cell_type": "code",
   "execution_count": 10,
   "metadata": {},
   "outputs": [],
   "source": [
    "def rmse(y_true, y_pred):\n",
    "    return  (np.sqrt(np.mean(np.square((y_true - y_pred)))))\n",
    "\n",
    "def rmspe(y_true, y_pred):\n",
    "    return  (np.sqrt(np.mean(np.square((y_true - y_pred) / y_true))))\n",
    "\n",
    "def feval_RMSPE(preds, train_data):\n",
    "    labels = train_data.get_label()\n",
    "    return 'RMSPE', round(rmspe(y_true = labels, y_pred = preds),5), False"
   ]
  },
  {
   "cell_type": "code",
   "execution_count": 11,
   "metadata": {},
   "outputs": [],
   "source": [
    "class EnsembleModel:\n",
    "    def __init__(self, models: List[lgb.Booster], weights: Optional[List[float]] = None):\n",
    "        self.models = models\n",
    "        self.weights = weights\n",
    "\n",
    "        features = list(self.models[0].feature_name())\n",
    "\n",
    "        for m in self.models[1:]:\n",
    "            assert features == list(m.feature_name())\n",
    "\n",
    "    def predict(self, x):\n",
    "        predicted = np.zeros((len(x), len(self.models)))\n",
    "\n",
    "        for i, m in enumerate(self.models):\n",
    "            w = self.weights[i] if self.weights is not None else 1\n",
    "            predicted[:, i] = w * m.predict(x)\n",
    "\n",
    "        ttl = np.sum(self.weights) if self.weights is not None else len(self.models)\n",
    "        return np.sum(predicted, axis=1) / ttl\n",
    "\n",
    "    def feature_name(self) -> List[str]:\n",
    "        return self.models[0].feature_name()"
   ]
  },
  {
   "cell_type": "code",
   "execution_count": 12,
   "metadata": {},
   "outputs": [],
   "source": [
    "lr = 0.3\n",
    "params = {\n",
    "    'objective': 'regression',\n",
    "    'verbose': -1,\n",
    "    'metric': 'l2_root',\n",
    "    'reg_alpha': 5,\n",
    "    'reg_lambda': 5,\n",
    "    'min_data_in_leaf': 1000,\n",
    "    'max_depth': -1,\n",
    "    'num_leaves': 2**6,\n",
    "    'colsample_bytree': 0.7,\n",
    "    'learning_rate': lr,\n",
    "}\n",
    "\n",
    "ds = lgb.Dataset(data = train_df[FEATURES], label = train_df['target'], feature_name = FEATURES)"
   ]
  },
  {
   "cell_type": "code",
   "execution_count": 13,
   "metadata": {},
   "outputs": [
    {
     "name": "stdout",
     "output_type": "stream",
     "text": [
      "[20]\tcv_agg's rmse: 0.000925865 + 1.4366e-05\tcv_agg's RMSPE: 0.296102 + 0.00862817\n",
      "[40]\tcv_agg's rmse: 0.000715341 + 2.66936e-05\tcv_agg's RMSPE: 0.228359 + 0.0153351\n",
      "[60]\tcv_agg's rmse: 0.000715239 + 2.67964e-05\tcv_agg's RMSPE: 0.228257 + 0.0153858\n",
      "[80]\tcv_agg's rmse: 0.000715239 + 2.67964e-05\tcv_agg's RMSPE: 0.228257 + 0.0153858\n",
      "[100]\tcv_agg's rmse: 0.000715239 + 2.67964e-05\tcv_agg's RMSPE: 0.228257 + 0.0153858\n",
      "[120]\tcv_agg's rmse: 0.000715239 + 2.67964e-05\tcv_agg's RMSPE: 0.228257 + 0.0153858\n",
      "[140]\tcv_agg's rmse: 0.000715239 + 2.67964e-05\tcv_agg's RMSPE: 0.228257 + 0.0153858\n",
      "[160]\tcv_agg's rmse: 0.000715239 + 2.67964e-05\tcv_agg's RMSPE: 0.228257 + 0.0153858\n",
      "[180]\tcv_agg's rmse: 0.000715239 + 2.67964e-05\tcv_agg's RMSPE: 0.228257 + 0.0153858\n",
      "[200]\tcv_agg's rmse: 0.000715239 + 2.67964e-05\tcv_agg's RMSPE: 0.228257 + 0.0153858\n",
      "[220]\tcv_agg's rmse: 0.000715239 + 2.67964e-05\tcv_agg's RMSPE: 0.228257 + 0.0153858\n",
      "[240]\tcv_agg's rmse: 0.000715239 + 2.67964e-05\tcv_agg's RMSPE: 0.228257 + 0.0153858\n",
      "[260]\tcv_agg's rmse: 0.000715239 + 2.67964e-05\tcv_agg's RMSPE: 0.228257 + 0.0153858\n",
      "[280]\tcv_agg's rmse: 0.000715239 + 2.67964e-05\tcv_agg's RMSPE: 0.228257 + 0.0153858\n",
      "[300]\tcv_agg's rmse: 0.000715239 + 2.67964e-05\tcv_agg's RMSPE: 0.228257 + 0.0153858\n",
      "[320]\tcv_agg's rmse: 0.000715239 + 2.67964e-05\tcv_agg's RMSPE: 0.228257 + 0.0153858\n",
      "[340]\tcv_agg's rmse: 0.000715239 + 2.67964e-05\tcv_agg's RMSPE: 0.228257 + 0.0153858\n",
      "[360]\tcv_agg's rmse: 0.000715239 + 2.67964e-05\tcv_agg's RMSPE: 0.228257 + 0.0153858\n",
      "[380]\tcv_agg's rmse: 0.000715239 + 2.67964e-05\tcv_agg's RMSPE: 0.228257 + 0.0153858\n",
      "[400]\tcv_agg's rmse: 0.000715239 + 2.67964e-05\tcv_agg's RMSPE: 0.228257 + 0.0153858\n",
      "[420]\tcv_agg's rmse: 0.000715239 + 2.67964e-05\tcv_agg's RMSPE: 0.228257 + 0.0153858\n",
      "[440]\tcv_agg's rmse: 0.000715239 + 2.67964e-05\tcv_agg's RMSPE: 0.228257 + 0.0153858\n",
      "[460]\tcv_agg's rmse: 0.000715239 + 2.67964e-05\tcv_agg's RMSPE: 0.228257 + 0.0153858\n",
      "[480]\tcv_agg's rmse: 0.000715239 + 2.67964e-05\tcv_agg's RMSPE: 0.228257 + 0.0153858\n",
      "[500]\tcv_agg's rmse: 0.000715239 + 2.67964e-05\tcv_agg's RMSPE: 0.228257 + 0.0153858\n",
      "# overall RMSPE: 0.228257\n",
      "[lgb.cv]  23.442 seconds\n"
     ]
    }
   ],
   "source": [
    "folds = []\n",
    "kf = KFold(n_splits=10)\n",
    "tmp_folds = kf.split(train_df)\n",
    "for train_index, valid_index in tmp_folds:\n",
    "    folds.append((train_index, valid_index))\n",
    "\n",
    "with timer('lgb.cv'):\n",
    "    ret = lgb.cv(params, ds, num_boost_round=500, folds=folds, #cv,\n",
    "                    feval=feval_RMSPE, stratified=False, \n",
    "                    return_cvbooster=True, verbose_eval=20,\n",
    "                    )\n",
    "    print(f\"# overall RMSPE: {ret['RMSPE-mean'][-1]}\")"
   ]
  },
  {
   "cell_type": "code",
   "execution_count": 14,
   "metadata": {},
   "outputs": [
    {
     "name": "stdout",
     "output_type": "stream",
     "text": [
      "# fold0 RMSPE: 0.25201456389387256\n",
      "# fold1 RMSPE: 0.23168768090857894\n",
      "# fold2 RMSPE: 0.22502600022154773\n",
      "# fold3 RMSPE: 0.22015767818498716\n",
      "# fold4 RMSPE: 0.21534814252718656\n",
      "# fold5 RMSPE: 0.2513272887144692\n",
      "# fold6 RMSPE: 0.2439307978491211\n",
      "# fold7 RMSPE: 0.20369029975850728\n",
      "# fold8 RMSPE: 0.21650116288873733\n",
      "# fold9 RMSPE: 0.22287853263417312\n"
     ]
    }
   ],
   "source": [
    "best_iteration = len(ret['RMSPE-mean'])\n",
    "for i in range(10):\n",
    "    y_pred = ret['cvbooster'].boosters[i].predict(train_df[FEATURES].iloc[folds[i][1]], num_iteration=best_iteration)\n",
    "    y_true = train_df['target'].iloc[folds[i][1]]\n",
    "    print(f\"# fold{i} RMSPE: {rmspe(y_true, y_pred)}\")\n",
    "    \n",
    "    if i == len(folds) - 1:\n",
    "        np.save('pred_gbdt.npy', y_pred)"
   ]
  },
  {
   "cell_type": "code",
   "execution_count": 15,
   "metadata": {},
   "outputs": [
    {
     "data": {
      "image/png": "[encoded data removed]",
      "text/plain": [
       "<Figure size 720x720 with 1 Axes>"
      ]
     },
     "metadata": {
      "needs_background": "light"
     },
     "output_type": "display_data"
    }
   ],
   "source": [
    "plot_importance(ret['cvbooster'], FEATURES)"
   ]
  },
  {
   "cell_type": "code",
   "execution_count": 17,
   "metadata": {},
   "outputs": [],
   "source": [
    "GBDT_NUM_MODELS = 5"
   ]
  },
  {
   "cell_type": "code",
   "execution_count": 18,
   "metadata": {},
   "outputs": [
    {
     "name": "stdout",
     "output_type": "stream",
     "text": [
      "[retraining]  9.207 seconds\n"
     ]
    }
   ],
   "source": [
    "boosters = []\n",
    "with timer('retraining'):\n",
    "    for i in range(GBDT_NUM_MODELS):\n",
    "        params['seed'] = i\n",
    "        boosters.append(lgb.train(params, ds, num_boost_round=int(1.1*best_iteration)))\n",
    "\n",
    "booster = EnsembleModel(boosters)"
   ]
  },
  {
   "cell_type": "code",
   "execution_count": 22,
   "metadata": {},
   "outputs": [
    {
     "name": "stdout",
     "output_type": "stream",
     "text": [
      "RMSPE:  0.49168514289700616\n",
      "RMSE: 0.003835275203970813\n",
      "Baseline_RMSPE:  0.5432508703908966\n",
      "Baseline_RMSE: 0.004520146219221657\n"
     ]
    }
   ],
   "source": [
    "CC = booster.predict(test_df[FEATURES])\n",
    "print('RMSPE: ', rmspe(CC, test_df['target']))\n",
    "print('RMSE:', rmse(CC, test_df['target']))\n",
    "\n",
    "print('Baseline_RMSPE: ', rmspe(test_df['baseline'], test_df['target']))\n",
    "print('Baseline_RMSE:', rmse(test_df['baseline'], test_df['target']))"
   ]
  }
 ],
 "metadata": {
  "kernelspec": {
   "display_name": "Python 3.8.5 ('base')",
   "language": "python",
   "name": "python3"
  },
  "language_info": {
   "codemirror_mode": {
    "name": "ipython",
    "version": 3
   },
   "file_extension": ".py",
   "mimetype": "text/x-python",
   "name": "python",
   "nbconvert_exporter": "python",
   "pygments_lexer": "ipython3",
   "version": "3.8.5"
  },
  "orig_nbformat": 4,
  "vscode": {
   "interpreter": {
    "hash": "ad2bdc8ecc057115af97d19610ffacc2b4e99fae6737bb82f5d7fb13d2f2c186"
   }
  }
 },
 "nbformat": 4,
 "nbformat_minor": 2
}
